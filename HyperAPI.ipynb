{
 "cells": [
  {
   "cell_type": "code",
   "execution_count": 1,
   "id": "527cb9d1",
   "metadata": {},
   "outputs": [],
   "source": [
    "from tableauhyperapi import HyperProcess, Connection,TableName, TableDefinition, SqlType, Telemetry, Inserter, CreateMode\n",
    "import pandas as pd"
   ]
  },
  {
   "cell_type": "code",
   "execution_count": 5,
   "id": "d7a540d7",
   "metadata": {},
   "outputs": [
    {
     "name": "stdout",
     "output_type": "stream",
     "text": [
      "Connection to Hyper file is established.\n"
     ]
    },
    {
     "ename": "AttributeError",
     "evalue": "'Result' object has no attribute 'columns'",
     "output_type": "error",
     "traceback": [
      "\u001b[1;31m---------------------------------------------------------------------------\u001b[0m",
      "\u001b[1;31mAttributeError\u001b[0m                            Traceback (most recent call last)",
      "Cell \u001b[1;32mIn[5], line 9\u001b[0m\n\u001b[0;32m      5\u001b[0m \u001b[38;5;28mprint\u001b[39m(\u001b[38;5;124m\"\u001b[39m\u001b[38;5;124mConnection to Hyper file is established.\u001b[39m\u001b[38;5;124m\"\u001b[39m)\n\u001b[0;32m      8\u001b[0m columns_result \u001b[38;5;241m=\u001b[39m connection\u001b[38;5;241m.\u001b[39mexecute_query(query\u001b[38;5;241m=\u001b[39m\u001b[38;5;124mf\u001b[39m\u001b[38;5;124m\"\u001b[39m\u001b[38;5;124mSELECT * FROM\u001b[39m\u001b[38;5;132;01m{\u001b[39;00mTableName(\u001b[38;5;124m'\u001b[39m\u001b[38;5;124mExtract\u001b[39m\u001b[38;5;124m'\u001b[39m,\u001b[38;5;124m'\u001b[39m\u001b[38;5;124mExtract\u001b[39m\u001b[38;5;124m'\u001b[39m)\u001b[38;5;132;01m}\u001b[39;00m\u001b[38;5;124m\"\u001b[39m)\n\u001b[1;32m----> 9\u001b[0m table_definition \u001b[38;5;241m=\u001b[39m columns_result\u001b[38;5;241m.\u001b[39mcolumns\n\u001b[0;32m     10\u001b[0m my_columns \u001b[38;5;241m=\u001b[39m [column\u001b[38;5;241m.\u001b[39mname \u001b[38;5;28;01mfor\u001b[39;00m column \u001b[38;5;129;01min\u001b[39;00m table_definition\u001b[38;5;241m.\u001b[39mcolumns]\n\u001b[0;32m     11\u001b[0m columns_result\u001b[38;5;241m.\u001b[39mclose()  \u001b[38;5;66;03m# Close the result set\u001b[39;00m\n",
      "\u001b[1;31mAttributeError\u001b[0m: 'Result' object has no attribute 'columns'"
     ]
    }
   ],
   "source": [
    "with HyperProcess(telemetry=Telemetry.SEND_USAGE_DATA_TO_TABLEAU) as hyper:\n",
    "    connection = Connection(endpoint=hyper.endpoint, database=\"C://Users//Theijan//Documents//hyper files//Custom SQL Query (CIF_Details_Report)1.hyper\", create_mode=CreateMode.NONE)\n",
    "    \n",
    "    if connection.is_open:\n",
    "        print(\"Connection to Hyper file is established.\")\n",
    "        \n",
    "       \n",
    "        columns_result = connection.execute_query(query=f\"SELECT * FROM{TableName('Extract','Extract')}\")\n",
    "        table_definition = columns_result.columns\n",
    "        my_columns = [column.name for column in table_definition.columns]\n",
    "        columns_result.close()  # Close the result set\n",
    "\n",
    "        # Get the number of columns\n",
    "        num_columns = table_definition.column_count\n",
    "        print(\"Number of columns:\", num_columns)\n",
    "        \n",
    "    else:\n",
    "        print(\"Failed to establish connection to Hyper file.\")"
   ]
  },
  {
   "cell_type": "code",
   "execution_count": 31,
   "id": "75cdc8ab",
   "metadata": {},
   "outputs": [
    {
     "name": "stdout",
     "output_type": "stream",
     "text": [
      "Connection to Hyper file is established.\n",
      "[[3621, 'I', 'Mr.', 'XXXXXXXXX XXXXXXXX  XXXXXXXXXXXX', 1, 'No. 100, AAA Road,', 'Jubili Post', 'Nugegoda', '', '50240', 'TAMBUTTEGAMA', '01', '04', '04', Date(2015, 7, 2), 'TDS9', '01000072', Timestamp(2015, 7, 2, 11, 22, 0, 0, None), '01002000', Timestamp(2023, 11, 20, 3, 55, 0, 0, None), '01001272', Timestamp(2023, 11, 20, 5, 52, 47, 0, None), Date(1971, 3, 27), 'TAMBUTTEGAMA', 'M', 'M', 'LK', 'R', '', '', '0777123456', '', 'S', 'N', '9901', '', 'NIC', '841234567V', 'Individual', 'General'], [3804, 'I', 'Mr.', 'XXXXXXXXXX XXXXXXXXXXXXX XXXXXXXX  XXXXXXXXXXXX', 1, 'No. 200, AAA Road,', 'Jubili Post', 'Nugegoda', '', '50240', 'TAMBUTTEGAMA', '01', '04', '04', Date(2015, 7, 6), 'TDS9', '01000072', Timestamp(2015, 7, 6, 15, 12, 0, 0, None), '01002001', Timestamp(2023, 12, 6, 13, 29, 0, 0, None), '01001226', Timestamp(2023, 12, 6, 14, 6, 48, 0, None), Date(1973, 6, 16), 'TAMBUTTEGAMA', 'M', 'M', 'LK', 'R', '', '', '0777123460', '', 'S', 'N', '6410', '', 'NIC', '198412345678', 'Individual', 'General'], [103971, 'I', 'Mrs.', 'XXXXXXXXXXXX XXXX XXXXX  XXXXXXX', 1, 'No. 300, AAA Road,', 'Jubili Post', 'Nugegoda', '', '12404', 'POKUNUWITA', '01', '01', '02', Date(2019, 4, 29), 'TDS9', '01TCC005', Timestamp(2019, 4, 29, 12, 23, 0, 0, None), '01001968', Timestamp(2023, 6, 5, 11, 3, 0, 0, None), '01001131', Timestamp(2023, 6, 5, 16, 11, 40, 0, None), Date(1990, 4, 10), 'HORANA', 'F', 'M', 'LK', 'R', '', '0112123456', '0777123464', 'testemail@gmail.com', 'E', 'N', '4110', 'CARGILLS BANK ltd', 'NIC', '198412345678', 'Individual', 'General'], [192703, 'C', 'MS.', 'XXXXXXXXXXXXXX & XXXXXXX', 10, 'No. 200, AAA Road,', 'Jubili Post', 'Nugegoda', '', '60000', 'KURUNEGALA', '07', '03', '03', Date(2022, 9, 7), 'TDS5', '01000529', Timestamp(2022, 9, 7, 16, 41, 0, 0, None), '01TMP105', Timestamp(2022, 12, 13, 9, 47, 0, 0, None), '01000778', Timestamp(2022, 12, 13, 10, 9, 48, 0, None), Date(1900, 1, 1), '', '', '', '', '', '', '', '', '', '', '', '', '', 'BR', '20/1225', 'Proprietorship', 'Proprietorship'], [197611, 'I', 'Miss.', 'XXXXXXXXXX XXXXX XXXXXXXXXX XXXXXXXX  XXXXXXXX', 1, 'No. 100, AAA Road,', 'Jubili Post', 'Nugegoda', '', '50000', 'ANURADHAPURA', '01', '01', '02', Date(2022, 11, 24), 'TDS0', '01001911', Timestamp(2022, 11, 24, 13, 15, 0, 0, None), '01001911', Timestamp(2022, 12, 19, 8, 49, 0, 0, None), '01001272', Timestamp(2022, 12, 19, 14, 31, 58, 0, None), Date(1996, 7, 22), 'RABEWA', 'F', 'S', 'LK', 'R', '', '', '0777123465', 'testemail@gmail.com', 'E', 'N', '4215', 'CARGILLS BANK ltd', 'NIC', '198412345678', 'Individual', 'General'], [197630, 'I', 'Mr.', 'XXXXXXXXXXXXXX XXXXXXXX XXXXX  XXXXXXXXXXXX', 1, 'No. 100, AAA Road,', 'Jubili Post', 'Nugegoda', '', '50500', 'MEDAWACHCHIYA', '01', '01', '02', Date(2022, 11, 24), 'TDS0', '01001911', Timestamp(2022, 11, 24, 15, 2, 0, 0, None), '01002000', Timestamp(2023, 4, 18, 13, 3, 0, 0, None), '01001272', Timestamp(2023, 4, 18, 17, 28, 3, 0, None), Date(1988, 3, 27), 'MEDAWACHCHIYA', 'M', 'M', 'LK', 'R', '', '', '0777123465', 'testemail@gmail.com', 'E', 'N', '5223', 'CARGILLS BANK ltd', 'NIC', '841234567V', 'Individual', 'General'], [197665, 'I', 'Mr.', 'XXXXXXXXXX XXXXXXXXXXXXX XXXXXX XXXXXXXXX  XXXXXXXXXX', 1, 'No. 300, AAA Road,', 'Jubili Post', 'Nugegoda', '', '50000', 'ANURADHAPURA', '01', '01', '02', Date(2022, 11, 25), 'TDS0', '01001911', Timestamp(2022, 11, 25, 9, 14, 0, 0, None), '01001911', Timestamp(2023, 2, 3, 14, 33, 0, 0, None), '01001272', Timestamp(2023, 2, 3, 16, 34, 34, 0, None), Date(2003, 12, 1), 'ANURADHAPURA', 'M', 'S', 'LK', 'R', '', '', '0777123465', 'testemail@gmail.com', 'E', 'N', '5223', 'CARGILLS BANK ltd', 'NIC', '198412345678', 'Individual', 'General'], [197671, 'I', 'Miss.', 'XXXXXX XXXXXXXX  XXXXXXXXX', 1, 'No. 100, AAA Road,', 'Jubili Post', 'Nugegoda', '', '50000', 'ANURADHAPURA', '01', '01', '02', Date(2022, 11, 25), 'TDS0', '01001911', Timestamp(2022, 11, 25, 9, 38, 0, 0, None), '01001911', Timestamp(2022, 12, 31, 10, 21, 0, 0, None), '01001272', Timestamp(2022, 12, 31, 10, 30, 30, 0, None), Date(1998, 10, 30), 'ANURADHAPURA', 'F', 'S', 'LK', 'R', '', '', '0777123465', 'testemail@gmail.com', 'N', 'N', '', '', 'NIC', '841234567V', 'Individual', 'General'], [197735, 'I', 'Mr.', 'XXXXXXX XXX   XXXXXXX XXXXX', 1, 'No. 200, AAA Road,', 'Jubili Post', 'Nugegoda', '', '50000', 'ANURADHAPURA', '01', '01', '02', Date(2022, 11, 24), 'TDS0', '01001911', Timestamp(2022, 11, 24, 15, 20, 0, 0, None), '01001911', Timestamp(2022, 12, 27, 13, 27, 0, 0, None), '01001272', Timestamp(2022, 12, 27, 17, 11, 53, 0, None), Date(1993, 11, 10), 'ANURADHAPURA', 'M', 'S', 'LK', 'R', '', '', '0777123465', 'testemail@gmail.com', 'E', 'N', '3213', 'CARGILLS BANK ltd', 'NIC', '841234567V', 'Individual', 'General'], [197740, 'I', 'Mr.', 'XXXXXXX XXX   XXXXXXX XXXXX', 1, 'No. 200, AAA Road,', 'Jubili Post', 'Nugegoda', '', '50000', 'ANURADHAPURA', '01', '01', '02', Date(2022, 11, 24), 'TDS0', '01001911', Timestamp(2022, 11, 24, 15, 20, 0, 0, None), '01001911', Timestamp(2022, 12, 27, 13, 27, 0, 0, None), '01001272', Timestamp(2022, 12, 27, 17, 11, 53, 0, None), Date(1993, 11, 10), 'ANURADHAPURA', 'M', 'S', 'LK', 'R', '', '', '0777123465', 'testemail@gmail.com', 'E', 'N', '3213', 'CARGILLS BANK ltd', 'NIC', '841234567V', 'Individual', 'General'], [197745, 'I', 'Mr.', 'XXXXXXX XXX   XXXXXXX XXXXX', 1, 'No. 200, AAA Road,', 'Jubili Post', 'Nugegoda', '', '50000', 'ANURADHAPURA', '01', '01', '02', Date(2022, 11, 24), 'TDS0', '01001911', Timestamp(2022, 11, 24, 15, 20, 0, 0, None), '01001911', Timestamp(2022, 12, 27, 13, 27, 0, 0, None), '01001272', Timestamp(2022, 12, 27, 17, 11, 53, 0, None), Date(1993, 11, 10), 'ANURADHAPURA', 'M', 'S', 'LK', 'R', '', '', '0777123465', 'testemail@gmail.com', 'E', 'N', '3213', 'CARGILLS BANK ltd', 'NIC', '841234567V', 'Individual', 'General'], [197795, 'I', 'Mr.', 'XXXXXXX XXX   XXXXXXX XXXXX', 1, 'No. 200, AAA Road,', 'Jubili Post', 'Nugegoda', '', '50000', 'ANURADHAPURA', '01', '01', '02', Date(2022, 11, 24), 'TDS0', '01001911', Timestamp(2022, 11, 24, 15, 20, 0, 0, None), '01001911', Timestamp(2022, 12, 27, 13, 27, 0, 0, None), '01001272', Timestamp(2022, 12, 27, 17, 11, 53, 0, None), Date(1993, 11, 10), 'ANURADHAPURA', 'M', 'S', 'LK', 'R', '', '', '0777123465', 'testemail@gmail.com', 'E', 'N', '3213', 'CARGILLS BANK ltd', 'NIC', '841234567V', 'Individual', 'General']]\n"
     ]
    },
    {
     "name": "stderr",
     "output_type": "stream",
     "text": [
      "C:\\Users\\Theijan\\anaconda3\\Lib\\site-packages\\tableauhyperapi\\result.py:462: UnclosedObjectWarning: Result has not been closed. Use Result object in a with statement or call its close() method when done.\n",
      "  warnings.warn('Result has not been closed. Use Result object in a with statement or call its close() '\n"
     ]
    }
   ],
   "source": [
    "with HyperProcess(telemetry=Telemetry.SEND_USAGE_DATA_TO_TABLEAU) as hyper:\n",
    "    connection = Connection(endpoint=hyper.endpoint, database=\"C://Users//Theijan//Documents//hyper files//Custom SQL Query (CIF_Details_Report)1.hyper\", create_mode=CreateMode.NONE)\n",
    "    \n",
    "    if connection.is_open:\n",
    "        print(\"Connection to Hyper file is established.\")\n",
    "        my_rows = connection.execute_list_query(\"\"\"\n",
    "            SELECT * FROM \"Extract\".\"Extract\"\n",
    "        \"\"\")\n",
    "        print(my_rows)     \n",
    "       \n",
    "       \n",
    "        connection.close()\n",
    "\n",
    "        \n",
    "    else:\n",
    "        print(\"Failed to establish connection to Hyper file.\")"
   ]
  },
  {
   "cell_type": "code",
   "execution_count": 32,
   "id": "8c457608",
   "metadata": {},
   "outputs": [
    {
     "ename": "ValueError",
     "evalue": "11 columns passed, passed data had 40 columns",
     "output_type": "error",
     "traceback": [
      "\u001b[1;31m---------------------------------------------------------------------------\u001b[0m",
      "\u001b[1;31mAssertionError\u001b[0m                            Traceback (most recent call last)",
      "File \u001b[1;32m~\\anaconda3\\Lib\\site-packages\\pandas\\core\\internals\\construction.py:934\u001b[0m, in \u001b[0;36m_finalize_columns_and_data\u001b[1;34m(content, columns, dtype)\u001b[0m\n\u001b[0;32m    933\u001b[0m \u001b[38;5;28;01mtry\u001b[39;00m:\n\u001b[1;32m--> 934\u001b[0m     columns \u001b[38;5;241m=\u001b[39m _validate_or_indexify_columns(contents, columns)\n\u001b[0;32m    935\u001b[0m \u001b[38;5;28;01mexcept\u001b[39;00m \u001b[38;5;167;01mAssertionError\u001b[39;00m \u001b[38;5;28;01mas\u001b[39;00m err:\n\u001b[0;32m    936\u001b[0m     \u001b[38;5;66;03m# GH#26429 do not raise user-facing AssertionError\u001b[39;00m\n",
      "File \u001b[1;32m~\\anaconda3\\Lib\\site-packages\\pandas\\core\\internals\\construction.py:981\u001b[0m, in \u001b[0;36m_validate_or_indexify_columns\u001b[1;34m(content, columns)\u001b[0m\n\u001b[0;32m    979\u001b[0m \u001b[38;5;28;01mif\u001b[39;00m \u001b[38;5;129;01mnot\u001b[39;00m is_mi_list \u001b[38;5;129;01mand\u001b[39;00m \u001b[38;5;28mlen\u001b[39m(columns) \u001b[38;5;241m!=\u001b[39m \u001b[38;5;28mlen\u001b[39m(content):  \u001b[38;5;66;03m# pragma: no cover\u001b[39;00m\n\u001b[0;32m    980\u001b[0m     \u001b[38;5;66;03m# caller's responsibility to check for this...\u001b[39;00m\n\u001b[1;32m--> 981\u001b[0m     \u001b[38;5;28;01mraise\u001b[39;00m \u001b[38;5;167;01mAssertionError\u001b[39;00m(\n\u001b[0;32m    982\u001b[0m         \u001b[38;5;124mf\u001b[39m\u001b[38;5;124m\"\u001b[39m\u001b[38;5;132;01m{\u001b[39;00m\u001b[38;5;28mlen\u001b[39m(columns)\u001b[38;5;132;01m}\u001b[39;00m\u001b[38;5;124m columns passed, passed data had \u001b[39m\u001b[38;5;124m\"\u001b[39m\n\u001b[0;32m    983\u001b[0m         \u001b[38;5;124mf\u001b[39m\u001b[38;5;124m\"\u001b[39m\u001b[38;5;132;01m{\u001b[39;00m\u001b[38;5;28mlen\u001b[39m(content)\u001b[38;5;132;01m}\u001b[39;00m\u001b[38;5;124m columns\u001b[39m\u001b[38;5;124m\"\u001b[39m\n\u001b[0;32m    984\u001b[0m     )\n\u001b[0;32m    985\u001b[0m \u001b[38;5;28;01mif\u001b[39;00m is_mi_list:\n\u001b[0;32m    986\u001b[0m     \u001b[38;5;66;03m# check if nested list column, length of each sub-list should be equal\u001b[39;00m\n",
      "\u001b[1;31mAssertionError\u001b[0m: 11 columns passed, passed data had 40 columns",
      "\nThe above exception was the direct cause of the following exception:\n",
      "\u001b[1;31mValueError\u001b[0m                                Traceback (most recent call last)",
      "Cell \u001b[1;32mIn[32], line 1\u001b[0m\n\u001b[1;32m----> 1\u001b[0m df \u001b[38;5;241m=\u001b[39m pd\u001b[38;5;241m.\u001b[39mDataFrame(my_rows, columns\u001b[38;5;241m=\u001b[39mmy_columns)\n\u001b[0;32m      2\u001b[0m \u001b[38;5;28mprint\u001b[39m(df)\n",
      "File \u001b[1;32m~\\anaconda3\\Lib\\site-packages\\pandas\\core\\frame.py:782\u001b[0m, in \u001b[0;36mDataFrame.__init__\u001b[1;34m(self, data, index, columns, dtype, copy)\u001b[0m\n\u001b[0;32m    780\u001b[0m     \u001b[38;5;28;01mif\u001b[39;00m columns \u001b[38;5;129;01mis\u001b[39;00m \u001b[38;5;129;01mnot\u001b[39;00m \u001b[38;5;28;01mNone\u001b[39;00m:\n\u001b[0;32m    781\u001b[0m         columns \u001b[38;5;241m=\u001b[39m ensure_index(columns)\n\u001b[1;32m--> 782\u001b[0m     arrays, columns, index \u001b[38;5;241m=\u001b[39m nested_data_to_arrays(\n\u001b[0;32m    783\u001b[0m         \u001b[38;5;66;03m# error: Argument 3 to \"nested_data_to_arrays\" has incompatible\u001b[39;00m\n\u001b[0;32m    784\u001b[0m         \u001b[38;5;66;03m# type \"Optional[Collection[Any]]\"; expected \"Optional[Index]\"\u001b[39;00m\n\u001b[0;32m    785\u001b[0m         data,\n\u001b[0;32m    786\u001b[0m         columns,\n\u001b[0;32m    787\u001b[0m         index,  \u001b[38;5;66;03m# type: ignore[arg-type]\u001b[39;00m\n\u001b[0;32m    788\u001b[0m         dtype,\n\u001b[0;32m    789\u001b[0m     )\n\u001b[0;32m    790\u001b[0m     mgr \u001b[38;5;241m=\u001b[39m arrays_to_mgr(\n\u001b[0;32m    791\u001b[0m         arrays,\n\u001b[0;32m    792\u001b[0m         columns,\n\u001b[1;32m   (...)\u001b[0m\n\u001b[0;32m    795\u001b[0m         typ\u001b[38;5;241m=\u001b[39mmanager,\n\u001b[0;32m    796\u001b[0m     )\n\u001b[0;32m    797\u001b[0m \u001b[38;5;28;01melse\u001b[39;00m:\n",
      "File \u001b[1;32m~\\anaconda3\\Lib\\site-packages\\pandas\\core\\internals\\construction.py:498\u001b[0m, in \u001b[0;36mnested_data_to_arrays\u001b[1;34m(data, columns, index, dtype)\u001b[0m\n\u001b[0;32m    495\u001b[0m \u001b[38;5;28;01mif\u001b[39;00m is_named_tuple(data[\u001b[38;5;241m0\u001b[39m]) \u001b[38;5;129;01mand\u001b[39;00m columns \u001b[38;5;129;01mis\u001b[39;00m \u001b[38;5;28;01mNone\u001b[39;00m:\n\u001b[0;32m    496\u001b[0m     columns \u001b[38;5;241m=\u001b[39m ensure_index(data[\u001b[38;5;241m0\u001b[39m]\u001b[38;5;241m.\u001b[39m_fields)\n\u001b[1;32m--> 498\u001b[0m arrays, columns \u001b[38;5;241m=\u001b[39m to_arrays(data, columns, dtype\u001b[38;5;241m=\u001b[39mdtype)\n\u001b[0;32m    499\u001b[0m columns \u001b[38;5;241m=\u001b[39m ensure_index(columns)\n\u001b[0;32m    501\u001b[0m \u001b[38;5;28;01mif\u001b[39;00m index \u001b[38;5;129;01mis\u001b[39;00m \u001b[38;5;28;01mNone\u001b[39;00m:\n",
      "File \u001b[1;32m~\\anaconda3\\Lib\\site-packages\\pandas\\core\\internals\\construction.py:840\u001b[0m, in \u001b[0;36mto_arrays\u001b[1;34m(data, columns, dtype)\u001b[0m\n\u001b[0;32m    837\u001b[0m     data \u001b[38;5;241m=\u001b[39m [\u001b[38;5;28mtuple\u001b[39m(x) \u001b[38;5;28;01mfor\u001b[39;00m x \u001b[38;5;129;01min\u001b[39;00m data]\n\u001b[0;32m    838\u001b[0m     arr \u001b[38;5;241m=\u001b[39m _list_to_arrays(data)\n\u001b[1;32m--> 840\u001b[0m content, columns \u001b[38;5;241m=\u001b[39m _finalize_columns_and_data(arr, columns, dtype)\n\u001b[0;32m    841\u001b[0m \u001b[38;5;28;01mreturn\u001b[39;00m content, columns\n",
      "File \u001b[1;32m~\\anaconda3\\Lib\\site-packages\\pandas\\core\\internals\\construction.py:937\u001b[0m, in \u001b[0;36m_finalize_columns_and_data\u001b[1;34m(content, columns, dtype)\u001b[0m\n\u001b[0;32m    934\u001b[0m     columns \u001b[38;5;241m=\u001b[39m _validate_or_indexify_columns(contents, columns)\n\u001b[0;32m    935\u001b[0m \u001b[38;5;28;01mexcept\u001b[39;00m \u001b[38;5;167;01mAssertionError\u001b[39;00m \u001b[38;5;28;01mas\u001b[39;00m err:\n\u001b[0;32m    936\u001b[0m     \u001b[38;5;66;03m# GH#26429 do not raise user-facing AssertionError\u001b[39;00m\n\u001b[1;32m--> 937\u001b[0m     \u001b[38;5;28;01mraise\u001b[39;00m \u001b[38;5;167;01mValueError\u001b[39;00m(err) \u001b[38;5;28;01mfrom\u001b[39;00m \u001b[38;5;21;01merr\u001b[39;00m\n\u001b[0;32m    939\u001b[0m \u001b[38;5;28;01mif\u001b[39;00m \u001b[38;5;28mlen\u001b[39m(contents) \u001b[38;5;129;01mand\u001b[39;00m contents[\u001b[38;5;241m0\u001b[39m]\u001b[38;5;241m.\u001b[39mdtype \u001b[38;5;241m==\u001b[39m np\u001b[38;5;241m.\u001b[39mobject_:\n\u001b[0;32m    940\u001b[0m     contents \u001b[38;5;241m=\u001b[39m convert_object_array(contents, dtype\u001b[38;5;241m=\u001b[39mdtype)\n",
      "\u001b[1;31mValueError\u001b[0m: 11 columns passed, passed data had 40 columns"
     ]
    }
   ],
   "source": [
    "df = pd.DataFrame(my_rows, columns=my_columns)\n",
    "print(df)\n"
   ]
  },
  {
   "cell_type": "code",
   "execution_count": 51,
   "id": "b87311cb",
   "metadata": {
    "scrolled": true
   },
   "outputs": [
    {
     "name": "stdout",
     "output_type": "stream",
     "text": [
      "Connection to Hyper file is established.\n",
      "Data inserted successfully.\n"
     ]
    }
   ],
   "source": [
    "from tableauhyperapi import TableName,TableDefinition  # Import TableName from tableauhyperapi\n",
    " # Import TableName\n",
    "\n",
    "\n",
    "# Use HyperProcess for managing Hyper instances\n",
    "with HyperProcess(telemetry=Telemetry.SEND_USAGE_DATA_TO_TABLEAU) as hyper:\n",
    "    # Connect to the Hyper file\n",
    "    with Connection(endpoint=hyper.endpoint, database=\"C://Users//Theijan//Documents//hyper files//Custom SQL Query (CIF_Details_Report)2.hyper\", create_mode=CreateMode.NONE) as connection:\n",
    "        if connection.is_open:\n",
    "            print(\"Connection to Hyper file is established.\")\n",
    "            \n",
    "           # tables = connection.catalog.get_table_names()\n",
    "            #print(\"Available tables:\", tables)\n",
    "\n",
    "           \n",
    "            #table_name = 'Extract.Extract'\n",
    "\n",
    "           # Get the table definition\n",
    "           #table_definition = connection.catalog.get_table_definition(table_name)\n",
    "\n",
    "        # Get the number of columns\n",
    "           #num_columns = len(table_definition.columns)\n",
    "       \n",
    "\n",
    "            # Use Inserter to add rows to the existing table\n",
    "            with Inserter(connection,TableName('Extract','Extract')) as inserter:\n",
    "                for row in my_data:\n",
    "                    filled_row = row + [None] * (42 - len(row))\n",
    "                    inserter.add_row(filled_row)\n",
    "\n",
    "                # Execute the insertion\n",
    "                inserter.execute()\n",
    "\n",
    "                print(\"Data inserted successfully.\")\n",
    "\n",
    "            # Commit the transaction\n",
    "            connection.close()\n",
    "        else:\n",
    "            print(\"Failed to establish connection to Hyper file.\")"
   ]
  },
  {
   "cell_type": "code",
   "execution_count": null,
   "id": "f61d4207",
   "metadata": {},
   "outputs": [],
   "source": []
  }
 ],
 "metadata": {
  "kernelspec": {
   "display_name": "Python 3 (ipykernel)",
   "language": "python",
   "name": "python3"
  },
  "language_info": {
   "codemirror_mode": {
    "name": "ipython",
    "version": 3
   },
   "file_extension": ".py",
   "mimetype": "text/x-python",
   "name": "python",
   "nbconvert_exporter": "python",
   "pygments_lexer": "ipython3",
   "version": "3.11.5"
  }
 },
 "nbformat": 4,
 "nbformat_minor": 5
}
